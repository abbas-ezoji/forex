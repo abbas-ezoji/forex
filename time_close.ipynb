{
 "cells": [
  {
   "cell_type": "code",
   "execution_count": 2,
   "metadata": {},
   "outputs": [],
   "source": [
    "# -*- coding: utf-8 -*-\n",
    "\"\"\" parametric_LSTM.ipynb \"\"\"\n",
    "\n",
    "# Import the libraries\n",
    "import numpy as np\n",
    "import pandas as pd\n",
    "from sklearn.preprocessing import MinMaxScaler\n",
    "from keras.models import Sequential\n",
    "from keras.layers import Dense, LSTM\n",
    "import matplotlib.pyplot as plt\n",
    "plt.style.use('fivethirtyeight')"
   ]
  },
  {
   "cell_type": "code",
   "execution_count": 3,
   "metadata": {},
   "outputs": [],
   "source": [
    "##############################################################################\n",
    "# Parameters used:\n",
    "stock = 'BTC-USD'             # Stock name\n",
    "start_date = '2012-01-01'     # Start Date for data\n",
    "end_date = '2021-01-11'       # End Date of Data\n",
    "\n",
    "dlf = 0.9                     # Train Data length factor\n",
    "\n",
    "l_input = 30                  # length of input vector\n",
    "l_output = 1                  # Length of output vector\n",
    "\n",
    "l1 = l_input                  # Number of Layer 1 Neurons\n",
    "l2 = l1                       # Number of Layer 2 Neurons\n",
    "hl = l1/2 #30                       # Number of hidden Layer Neurons"
   ]
  },
  {
   "cell_type": "code",
   "execution_count": 5,
   "metadata": {},
   "outputs": [
    {
     "data": {
      "text/html": [
       "<div>\n",
       "<style scoped>\n",
       "    .dataframe tbody tr th:only-of-type {\n",
       "        vertical-align: middle;\n",
       "    }\n",
       "\n",
       "    .dataframe tbody tr th {\n",
       "        vertical-align: top;\n",
       "    }\n",
       "\n",
       "    .dataframe thead th {\n",
       "        text-align: right;\n",
       "    }\n",
       "</style>\n",
       "<table border=\"1\" class=\"dataframe\">\n",
       "  <thead>\n",
       "    <tr style=\"text-align: right;\">\n",
       "      <th></th>\n",
       "      <th>Date</th>\n",
       "      <th>High</th>\n",
       "      <th>Low</th>\n",
       "      <th>Open</th>\n",
       "      <th>Close</th>\n",
       "      <th>Volume</th>\n",
       "      <th>Adj Close</th>\n",
       "    </tr>\n",
       "  </thead>\n",
       "  <tbody>\n",
       "    <tr>\n",
       "      <th>0</th>\n",
       "      <td>2014-09-16</td>\n",
       "      <td>468.174011</td>\n",
       "      <td>452.421997</td>\n",
       "      <td>465.864014</td>\n",
       "      <td>457.334015</td>\n",
       "      <td>21056800</td>\n",
       "      <td>457.334015</td>\n",
       "    </tr>\n",
       "    <tr>\n",
       "      <th>1</th>\n",
       "      <td>2014-09-17</td>\n",
       "      <td>456.859985</td>\n",
       "      <td>413.104004</td>\n",
       "      <td>456.859985</td>\n",
       "      <td>424.440002</td>\n",
       "      <td>34483200</td>\n",
       "      <td>424.440002</td>\n",
       "    </tr>\n",
       "    <tr>\n",
       "      <th>2</th>\n",
       "      <td>2014-09-18</td>\n",
       "      <td>427.834991</td>\n",
       "      <td>384.532013</td>\n",
       "      <td>424.102997</td>\n",
       "      <td>394.795990</td>\n",
       "      <td>37919700</td>\n",
       "      <td>394.795990</td>\n",
       "    </tr>\n",
       "    <tr>\n",
       "      <th>3</th>\n",
       "      <td>2014-09-19</td>\n",
       "      <td>423.295990</td>\n",
       "      <td>389.882996</td>\n",
       "      <td>394.673004</td>\n",
       "      <td>408.903992</td>\n",
       "      <td>36863600</td>\n",
       "      <td>408.903992</td>\n",
       "    </tr>\n",
       "    <tr>\n",
       "      <th>4</th>\n",
       "      <td>2014-09-20</td>\n",
       "      <td>412.425995</td>\n",
       "      <td>393.181000</td>\n",
       "      <td>408.084991</td>\n",
       "      <td>398.821014</td>\n",
       "      <td>26580100</td>\n",
       "      <td>398.821014</td>\n",
       "    </tr>\n",
       "    <tr>\n",
       "      <th>...</th>\n",
       "      <td>...</td>\n",
       "      <td>...</td>\n",
       "      <td>...</td>\n",
       "      <td>...</td>\n",
       "      <td>...</td>\n",
       "      <td>...</td>\n",
       "      <td>...</td>\n",
       "    </tr>\n",
       "    <tr>\n",
       "      <th>2299</th>\n",
       "      <td>2021-01-06</td>\n",
       "      <td>36879.699219</td>\n",
       "      <td>33514.035156</td>\n",
       "      <td>34013.613281</td>\n",
       "      <td>36824.363281</td>\n",
       "      <td>75289433811</td>\n",
       "      <td>36824.363281</td>\n",
       "    </tr>\n",
       "    <tr>\n",
       "      <th>2300</th>\n",
       "      <td>2021-01-07</td>\n",
       "      <td>40180.367188</td>\n",
       "      <td>36491.191406</td>\n",
       "      <td>36833.875000</td>\n",
       "      <td>39371.042969</td>\n",
       "      <td>84762141031</td>\n",
       "      <td>39371.042969</td>\n",
       "    </tr>\n",
       "    <tr>\n",
       "      <th>2301</th>\n",
       "      <td>2021-01-08</td>\n",
       "      <td>41946.738281</td>\n",
       "      <td>36838.636719</td>\n",
       "      <td>39381.765625</td>\n",
       "      <td>40797.609375</td>\n",
       "      <td>88107519480</td>\n",
       "      <td>40797.609375</td>\n",
       "    </tr>\n",
       "    <tr>\n",
       "      <th>2302</th>\n",
       "      <td>2021-01-11</td>\n",
       "      <td>38346.531250</td>\n",
       "      <td>30549.599609</td>\n",
       "      <td>38346.531250</td>\n",
       "      <td>35566.656250</td>\n",
       "      <td>123320567399</td>\n",
       "      <td>35566.656250</td>\n",
       "    </tr>\n",
       "    <tr>\n",
       "      <th>2303</th>\n",
       "      <td>2021-01-12</td>\n",
       "      <td>36513.601562</td>\n",
       "      <td>32791.082031</td>\n",
       "      <td>35447.621094</td>\n",
       "      <td>35109.191406</td>\n",
       "      <td>82621964288</td>\n",
       "      <td>35109.191406</td>\n",
       "    </tr>\n",
       "  </tbody>\n",
       "</table>\n",
       "<p>2304 rows × 7 columns</p>\n",
       "</div>"
      ],
      "text/plain": [
       "           Date          High           Low          Open         Close  \\\n",
       "0    2014-09-16    468.174011    452.421997    465.864014    457.334015   \n",
       "1    2014-09-17    456.859985    413.104004    456.859985    424.440002   \n",
       "2    2014-09-18    427.834991    384.532013    424.102997    394.795990   \n",
       "3    2014-09-19    423.295990    389.882996    394.673004    408.903992   \n",
       "4    2014-09-20    412.425995    393.181000    408.084991    398.821014   \n",
       "...         ...           ...           ...           ...           ...   \n",
       "2299 2021-01-06  36879.699219  33514.035156  34013.613281  36824.363281   \n",
       "2300 2021-01-07  40180.367188  36491.191406  36833.875000  39371.042969   \n",
       "2301 2021-01-08  41946.738281  36838.636719  39381.765625  40797.609375   \n",
       "2302 2021-01-11  38346.531250  30549.599609  38346.531250  35566.656250   \n",
       "2303 2021-01-12  36513.601562  32791.082031  35447.621094  35109.191406   \n",
       "\n",
       "            Volume     Adj Close  \n",
       "0         21056800    457.334015  \n",
       "1         34483200    424.440002  \n",
       "2         37919700    394.795990  \n",
       "3         36863600    408.903992  \n",
       "4         26580100    398.821014  \n",
       "...            ...           ...  \n",
       "2299   75289433811  36824.363281  \n",
       "2300   84762141031  39371.042969  \n",
       "2301   88107519480  40797.609375  \n",
       "2302  123320567399  35566.656250  \n",
       "2303   82621964288  35109.191406  \n",
       "\n",
       "[2304 rows x 7 columns]"
      ]
     },
     "execution_count": 5,
     "metadata": {},
     "output_type": "execute_result"
    }
   ],
   "source": [
    "df = pd.read_excel('BTC-USD.xlsx')\n",
    "df"
   ]
  },
  {
   "cell_type": "code",
   "execution_count": 6,
   "metadata": {},
   "outputs": [],
   "source": [
    "data = df.filter(['Close'])\n",
    "#Scale the data to a numpy array\n",
    "scaler = MinMaxScaler(feature_range=(0,1))\n",
    "scaled_data = scaler.fit_transform(data.values)\n",
    "\n",
    "#Get the number of rows to train the model on\n",
    "data_len = len(data)\n",
    "training_len = int( data_len * dlf )\n",
    "test_len = data_len - training_len - l_output "
   ]
  },
  {
   "cell_type": "code",
   "execution_count": 7,
   "metadata": {},
   "outputs": [],
   "source": [
    "x_train = []\n",
    "y_train = []\n",
    "\n",
    "for i in range(0, training_len):\n",
    "    x_train.append(scaled_data[i:i+l_input, 0])\n",
    "    y_train.append(scaled_data[i+l_input:i+l_input+l_output, 0])\n",
    "#Convert the x_train and y_train to numpy arrays \n",
    "x_train = np.array(x_train)\n",
    "y_train = np.array(y_train)\n",
    "#Reshape the data\n",
    "x_train = np.reshape(x_train, (x_train.shape[0], x_train.shape[1], 1))\n",
    "#########################################\n",
    "### Create the test data sets x_test and y_test\n",
    "x_test = []\n",
    "y_test = []\n",
    "\n",
    "for i in range(training_len, training_len+test_len):\n",
    "    x_test.append(scaled_data[i-l_input:i, 0])\n",
    "    y_test.append(scaled_data[i:i+l_output, 0])\n",
    "#Convert the data to a numpy array\n",
    "x_test = np.array(x_test)\n",
    "y_test = np.array(y_test)\n",
    "x_test = np.reshape(x_test, (x_test.shape[0], x_test.shape[1], 1 ))"
   ]
  },
  {
   "cell_type": "code",
   "execution_count": 9,
   "metadata": {},
   "outputs": [],
   "source": [
    "model = Sequential()\n",
    "#adding layer 1 neurons\n",
    "model.add(LSTM(l1, return_sequences=True, input_shape=(x_train.shape[1], 1), dropout=0.2))\n",
    "#adding layer 2 neurons\n",
    "model.add(LSTM(l2, return_sequences= False, dropout=0.2))\n",
    "#adding hidden layer neurons\n",
    "model.add(Dense(hl))\n",
    "#adding output layer neurons\n",
    "model.add(Dense(l_output))\n",
    "#Compile the model\n",
    "model.compile(optimizer='adam', loss='mean_squared_error')"
   ]
  },
  {
   "cell_type": "code",
   "execution_count": 11,
   "metadata": {},
   "outputs": [
    {
     "data": {
      "text/plain": [
       "2073"
      ]
     },
     "execution_count": 11,
     "metadata": {},
     "output_type": "execute_result"
    }
   ],
   "source": [
    "len(x_train)"
   ]
  },
  {
   "cell_type": "code",
   "execution_count": 12,
   "metadata": {},
   "outputs": [
    {
     "name": "stdout",
     "output_type": "stream",
     "text": [
      "Epoch 1/10\n",
      "33/33 [==============================] - 4s 29ms/step - loss: 0.0025\n",
      "Epoch 2/10\n",
      "33/33 [==============================] - 1s 29ms/step - loss: 6.1293e-04\n",
      "Epoch 3/10\n",
      "33/33 [==============================] - 1s 29ms/step - loss: 5.7051e-04\n",
      "Epoch 4/10\n",
      "33/33 [==============================] - 1s 30ms/step - loss: 5.2939e-04\n",
      "Epoch 5/10\n",
      "33/33 [==============================] - 1s 32ms/step - loss: 5.7623e-04\n",
      "Epoch 6/10\n",
      "33/33 [==============================] - 1s 30ms/step - loss: 5.5047e-04\n",
      "Epoch 7/10\n",
      "33/33 [==============================] - 1s 30ms/step - loss: 5.9810e-04\n",
      "Epoch 8/10\n",
      "33/33 [==============================] - 1s 29ms/step - loss: 5.5877e-04\n",
      "Epoch 9/10\n",
      "33/33 [==============================] - 1s 30ms/step - loss: 5.8610e-04\n",
      "Epoch 10/10\n",
      "33/33 [==============================] - 1s 30ms/step - loss: 5.9915e-04\n"
     ]
    },
    {
     "data": {
      "text/plain": [
       "<tensorflow.python.keras.callbacks.History at 0x2026c71faf0>"
      ]
     },
     "execution_count": 12,
     "metadata": {},
     "output_type": "execute_result"
    }
   ],
   "source": [
    "model.fit(x_train, y_train, batch_size=64, epochs=10)"
   ]
  },
  {
   "cell_type": "code",
   "execution_count": 13,
   "metadata": {},
   "outputs": [],
   "source": [
    "predictions = model.predict(x_test)"
   ]
  },
  {
   "cell_type": "code",
   "execution_count": 14,
   "metadata": {},
   "outputs": [],
   "source": [
    "predictions = scaler.inverse_transform(predictions)"
   ]
  },
  {
   "cell_type": "code",
   "execution_count": 15,
   "metadata": {},
   "outputs": [],
   "source": [
    "rmse=np.sqrt(np.mean(((predictions- y_test)**2)))"
   ]
  },
  {
   "cell_type": "code",
   "execution_count": 16,
   "metadata": {},
   "outputs": [
    {
     "name": "stdout",
     "output_type": "stream",
     "text": [
      "23724.709\n",
      "rmse= 12827.350746882577\n"
     ]
    }
   ],
   "source": [
    "#Show the last predicted price\n",
    "print(predictions[-1][0])\n",
    "print('rmse=',rmse)"
   ]
  },
  {
   "cell_type": "code",
   "execution_count": 17,
   "metadata": {},
   "outputs": [
    {
     "name": "stderr",
     "output_type": "stream",
     "text": [
      "<ipython-input-17-7114c37e83c1>:5: SettingWithCopyWarning: \n",
      "A value is trying to be set on a copy of a slice from a DataFrame.\n",
      "Try using .loc[row_indexer,col_indexer] = value instead\n",
      "\n",
      "See the caveats in the documentation: https://pandas.pydata.org/pandas-docs/stable/user_guide/indexing.html#returning-a-view-versus-a-copy\n",
      "  Test['Predictions'] = predictions\n"
     ]
    },
    {
     "data": {
      "image/png": "[encoded data removed]",
      "text/plain": [
       "<Figure size 432x288 with 1 Axes>"
      ]
     },
     "metadata": {},
     "output_type": "display_data"
    }
   ],
   "source": [
    "########################################\n",
    "#Plot the data\n",
    "train = data[:training_len]\n",
    "Test = data[training_len:training_len+test_len]\n",
    "Test['Predictions'] = predictions\n",
    "#Visualize the data\n",
    "# plt.figure(figsize=(14,7))\n",
    "plt.title('Model')\n",
    "plt.xlabel('Date', fontsize=18)\n",
    "plt.ylabel('Close Price USD ($)', fontsize=18)\n",
    "plt.plot(train['Close'], color='b', linewidth = 2)\n",
    "plt.plot(Test['Close'], color='g', linewidth = 1)\n",
    "plt.plot(Test['Predictions'], color='r', linewidth = 1)\n",
    "plt.legend(['Train', 'Close', 'Predictions'], loc='lower right')\n",
    "plt.show()"
   ]
  },
  {
   "cell_type": "code",
   "execution_count": 18,
   "metadata": {},
   "outputs": [],
   "source": [
    "model.save('m1.h5')"
   ]
  },
  {
   "cell_type": "code",
   "execution_count": null,
   "metadata": {},
   "outputs": [],
   "source": []
  }
 ],
 "metadata": {
  "kernelspec": {
   "display_name": "Python 3",
   "language": "python",
   "name": "python3"
  },
  "language_info": {
   "codemirror_mode": {
    "name": "ipython",
    "version": 3
   },
   "file_extension": ".py",
   "mimetype": "text/x-python",
   "name": "python",
   "nbconvert_exporter": "python",
   "pygments_lexer": "ipython3",
   "version": "3.8.3"
  }
 },
 "nbformat": 4,
 "nbformat_minor": 4
}
