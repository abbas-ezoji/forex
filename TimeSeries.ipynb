{
 "cells": [
  {
   "cell_type": "code",
   "execution_count": 21,
   "metadata": {},
   "outputs": [],
   "source": [
    "from pandas import read_csv\n",
    "from pandas import DataFrame\n",
    "from pandas import concat\n",
    "from sklearn.preprocessing import LabelEncoder\n",
    "from sklearn.preprocessing import MinMaxScaler\n",
    "from math import sqrt\n",
    "from numpy import concatenate\n",
    "from matplotlib import pyplot\n",
    "from pandas import read_csv\n",
    "from pandas import DataFrame\n",
    "from pandas import concat\n",
    "from sklearn.preprocessing import MinMaxScaler\n",
    "from sklearn.preprocessing import LabelEncoder\n",
    "from sklearn.metrics import mean_squared_error\n",
    "from keras.models import Sequential\n",
    "from keras.layers import Dense\n",
    "from keras.layers import LSTM\n",
    "from keras.layers import Flatten\n",
    "from keras.layers import Dropout"
   ]
  },
  {
   "cell_type": "code",
   "execution_count": 2,
   "metadata": {},
   "outputs": [
    {
     "data": {
      "text/html": [
       "<div>\n",
       "<style scoped>\n",
       "    .dataframe tbody tr th:only-of-type {\n",
       "        vertical-align: middle;\n",
       "    }\n",
       "\n",
       "    .dataframe tbody tr th {\n",
       "        vertical-align: top;\n",
       "    }\n",
       "\n",
       "    .dataframe thead th {\n",
       "        text-align: right;\n",
       "    }\n",
       "</style>\n",
       "<table border=\"1\" class=\"dataframe\">\n",
       "  <thead>\n",
       "    <tr style=\"text-align: right;\">\n",
       "      <th></th>\n",
       "      <th>date</th>\n",
       "      <th>symbol</th>\n",
       "      <th>open</th>\n",
       "      <th>high</th>\n",
       "      <th>low</th>\n",
       "      <th>close</th>\n",
       "      <th>Volume BTC</th>\n",
       "      <th>Volume USD</th>\n",
       "    </tr>\n",
       "    <tr>\n",
       "      <th>unix</th>\n",
       "      <th></th>\n",
       "      <th></th>\n",
       "      <th></th>\n",
       "      <th></th>\n",
       "      <th></th>\n",
       "      <th></th>\n",
       "      <th></th>\n",
       "      <th></th>\n",
       "    </tr>\n",
       "  </thead>\n",
       "  <tbody>\n",
       "    <tr>\n",
       "      <th>1611619200</th>\n",
       "      <td>1/26/2021 0:00</td>\n",
       "      <td>BTC/USD</td>\n",
       "      <td>32264.15</td>\n",
       "      <td>32459.66</td>\n",
       "      <td>31787.14</td>\n",
       "      <td>32436.71</td>\n",
       "      <td>2.277480e+02</td>\n",
       "      <td>7.387396e+06</td>\n",
       "    </tr>\n",
       "    <tr>\n",
       "      <th>1611532800</th>\n",
       "      <td>1/25/2021 0:00</td>\n",
       "      <td>BTC/USD</td>\n",
       "      <td>32289.06</td>\n",
       "      <td>34888.00</td>\n",
       "      <td>31939.12</td>\n",
       "      <td>32261.22</td>\n",
       "      <td>1.003876e+04</td>\n",
       "      <td>3.238625e+08</td>\n",
       "    </tr>\n",
       "    <tr>\n",
       "      <th>1611446400</th>\n",
       "      <td>1/24/2021 0:00</td>\n",
       "      <td>BTC/USD</td>\n",
       "      <td>32098.38</td>\n",
       "      <td>33075.75</td>\n",
       "      <td>30960.77</td>\n",
       "      <td>32288.83</td>\n",
       "      <td>4.658710e+03</td>\n",
       "      <td>1.504243e+08</td>\n",
       "    </tr>\n",
       "    <tr>\n",
       "      <th>1611360000</th>\n",
       "      <td>1/23/2021 0:00</td>\n",
       "      <td>BTC/USD</td>\n",
       "      <td>32989.10</td>\n",
       "      <td>33468.46</td>\n",
       "      <td>31426.11</td>\n",
       "      <td>32117.49</td>\n",
       "      <td>5.255746e+03</td>\n",
       "      <td>1.688014e+08</td>\n",
       "    </tr>\n",
       "    <tr>\n",
       "      <th>1611273600</th>\n",
       "      <td>1/22/2021 0:00</td>\n",
       "      <td>BTC/USD</td>\n",
       "      <td>30817.86</td>\n",
       "      <td>33864.85</td>\n",
       "      <td>28800.00</td>\n",
       "      <td>32992.06</td>\n",
       "      <td>1.701958e+04</td>\n",
       "      <td>5.615111e+08</td>\n",
       "    </tr>\n",
       "    <tr>\n",
       "      <th>...</th>\n",
       "      <td>...</td>\n",
       "      <td>...</td>\n",
       "      <td>...</td>\n",
       "      <td>...</td>\n",
       "      <td>...</td>\n",
       "      <td>...</td>\n",
       "      <td>...</td>\n",
       "      <td>...</td>\n",
       "    </tr>\n",
       "    <tr>\n",
       "      <th>1417478400</th>\n",
       "      <td>12/2/2014 0:00</td>\n",
       "      <td>BTC/USD</td>\n",
       "      <td>378.39</td>\n",
       "      <td>382.86</td>\n",
       "      <td>375.23</td>\n",
       "      <td>379.25</td>\n",
       "      <td>2.593576e+06</td>\n",
       "      <td>6.832530e+03</td>\n",
       "    </tr>\n",
       "    <tr>\n",
       "      <th>1417392000</th>\n",
       "      <td>12/1/2014 0:00</td>\n",
       "      <td>BTC/USD</td>\n",
       "      <td>376.40</td>\n",
       "      <td>382.31</td>\n",
       "      <td>373.03</td>\n",
       "      <td>378.39</td>\n",
       "      <td>2.520662e+06</td>\n",
       "      <td>6.660560e+03</td>\n",
       "    </tr>\n",
       "    <tr>\n",
       "      <th>1417305600</th>\n",
       "      <td>11/30/2014 0:00</td>\n",
       "      <td>BTC/USD</td>\n",
       "      <td>376.57</td>\n",
       "      <td>381.99</td>\n",
       "      <td>373.32</td>\n",
       "      <td>373.34</td>\n",
       "      <td>1.145567e+06</td>\n",
       "      <td>3.046330e+03</td>\n",
       "    </tr>\n",
       "    <tr>\n",
       "      <th>1417219200</th>\n",
       "      <td>11/29/2014 0:00</td>\n",
       "      <td>BTC/USD</td>\n",
       "      <td>376.42</td>\n",
       "      <td>386.60</td>\n",
       "      <td>372.25</td>\n",
       "      <td>376.72</td>\n",
       "      <td>2.746157e+06</td>\n",
       "      <td>7.245190e+03</td>\n",
       "    </tr>\n",
       "    <tr>\n",
       "      <th>1417132800</th>\n",
       "      <td>11/28/2014 0:00</td>\n",
       "      <td>BTC/USD</td>\n",
       "      <td>363.59</td>\n",
       "      <td>381.34</td>\n",
       "      <td>360.57</td>\n",
       "      <td>376.28</td>\n",
       "      <td>3.220878e+06</td>\n",
       "      <td>8.617150e+03</td>\n",
       "    </tr>\n",
       "  </tbody>\n",
       "</table>\n",
       "<p>2252 rows × 8 columns</p>\n",
       "</div>"
      ],
      "text/plain": [
       "                       date   symbol      open      high       low     close  \\\n",
       "unix                                                                           \n",
       "1611619200   1/26/2021 0:00  BTC/USD  32264.15  32459.66  31787.14  32436.71   \n",
       "1611532800   1/25/2021 0:00  BTC/USD  32289.06  34888.00  31939.12  32261.22   \n",
       "1611446400   1/24/2021 0:00  BTC/USD  32098.38  33075.75  30960.77  32288.83   \n",
       "1611360000   1/23/2021 0:00  BTC/USD  32989.10  33468.46  31426.11  32117.49   \n",
       "1611273600   1/22/2021 0:00  BTC/USD  30817.86  33864.85  28800.00  32992.06   \n",
       "...                     ...      ...       ...       ...       ...       ...   \n",
       "1417478400   12/2/2014 0:00  BTC/USD    378.39    382.86    375.23    379.25   \n",
       "1417392000   12/1/2014 0:00  BTC/USD    376.40    382.31    373.03    378.39   \n",
       "1417305600  11/30/2014 0:00  BTC/USD    376.57    381.99    373.32    373.34   \n",
       "1417219200  11/29/2014 0:00  BTC/USD    376.42    386.60    372.25    376.72   \n",
       "1417132800  11/28/2014 0:00  BTC/USD    363.59    381.34    360.57    376.28   \n",
       "\n",
       "              Volume BTC    Volume USD  \n",
       "unix                                    \n",
       "1611619200  2.277480e+02  7.387396e+06  \n",
       "1611532800  1.003876e+04  3.238625e+08  \n",
       "1611446400  4.658710e+03  1.504243e+08  \n",
       "1611360000  5.255746e+03  1.688014e+08  \n",
       "1611273600  1.701958e+04  5.615111e+08  \n",
       "...                  ...           ...  \n",
       "1417478400  2.593576e+06  6.832530e+03  \n",
       "1417392000  2.520662e+06  6.660560e+03  \n",
       "1417305600  1.145567e+06  3.046330e+03  \n",
       "1417219200  2.746157e+06  7.245190e+03  \n",
       "1417132800  3.220878e+06  8.617150e+03  \n",
       "\n",
       "[2252 rows x 8 columns]"
      ]
     },
     "execution_count": 2,
     "metadata": {},
     "output_type": "execute_result"
    }
   ],
   "source": [
    "import pandas as pd\n",
    "\n",
    "dataset = pd.read_csv('Bitstamp_BTCUSD_d.csv', header=0, index_col=0)\n",
    "dataset"
   ]
  },
  {
   "cell_type": "code",
   "execution_count": 3,
   "metadata": {},
   "outputs": [
    {
     "data": {
      "text/plain": [
       "array([[3.22641500e+04, 3.24596600e+04, 3.17871400e+04, 3.24367100e+04,\n",
       "        7.38739623e+06],\n",
       "       [3.22890600e+04, 3.48880000e+04, 3.19391200e+04, 3.22612200e+04,\n",
       "        3.23862499e+08],\n",
       "       [3.20983800e+04, 3.30757500e+04, 3.09607700e+04, 3.22888300e+04,\n",
       "        1.50424283e+08],\n",
       "       ...,\n",
       "       [3.76570000e+02, 3.81990000e+02, 3.73320000e+02, 3.73340000e+02,\n",
       "        3.04633000e+03],\n",
       "       [3.76420000e+02, 3.86600000e+02, 3.72250000e+02, 3.76720000e+02,\n",
       "        7.24519000e+03],\n",
       "       [3.63590000e+02, 3.81340000e+02, 3.60570000e+02, 3.76280000e+02,\n",
       "        8.61715000e+03]])"
      ]
     },
     "execution_count": 3,
     "metadata": {},
     "output_type": "execute_result"
    }
   ],
   "source": [
    "groups = [2,3,4,5,7]\n",
    "values = dataset.iloc[:, groups].values\n",
    "values"
   ]
  },
  {
   "cell_type": "code",
   "execution_count": 4,
   "metadata": {},
   "outputs": [
    {
     "data": {
      "image/png": "[encoded data removed]",
      "text/plain": [
       "<Figure size 432x288 with 5 Axes>"
      ]
     },
     "metadata": {
      "needs_background": "light"
     },
     "output_type": "display_data"
    }
   ],
   "source": [
    "from pandas import read_csv\n",
    "from matplotlib import pyplot\n",
    "\n",
    "# plot each column\n",
    "pyplot.figure()\n",
    "for i, group in enumerate(groups):\n",
    "    pyplot.subplot(len(groups), 1, i+1)\n",
    "    pyplot.plot(values[:, i])\n",
    "    pyplot.title(dataset.columns[group], y=0.5, loc='right')\n",
    "\n",
    "pyplot.show()"
   ]
  },
  {
   "cell_type": "code",
   "execution_count": 5,
   "metadata": {},
   "outputs": [
    {
     "data": {
      "text/plain": [
       "array([[3.2264150e+04, 3.2459660e+04, 3.1787141e+04, 3.2436711e+04,\n",
       "        7.3873960e+06],\n",
       "       [3.2289061e+04, 3.4888000e+04, 3.1939119e+04, 3.2261221e+04,\n",
       "        3.2386250e+08],\n",
       "       [3.2098381e+04, 3.3075750e+04, 3.0960770e+04, 3.2288830e+04,\n",
       "        1.5042429e+08],\n",
       "       ...,\n",
       "       [3.7657001e+02, 3.8198999e+02, 3.7332001e+02, 3.7334000e+02,\n",
       "        3.0463301e+03],\n",
       "       [3.7642001e+02, 3.8660001e+02, 3.7225000e+02, 3.7672000e+02,\n",
       "        7.2451899e+03],\n",
       "       [3.6359000e+02, 3.8134000e+02, 3.6057001e+02, 3.7628000e+02,\n",
       "        8.6171504e+03]], dtype=float32)"
      ]
     },
     "execution_count": 5,
     "metadata": {},
     "output_type": "execute_result"
    }
   ],
   "source": [
    "# integer encode direction\n",
    "encoder = LabelEncoder()\n",
    "# values = encoder.fit_transform(values)\n",
    "# ensure all data is float\n",
    "values = values.astype('float32')\n",
    "values"
   ]
  },
  {
   "cell_type": "code",
   "execution_count": 6,
   "metadata": {},
   "outputs": [
    {
     "data": {
      "text/plain": [
       "(2252, 5)"
      ]
     },
     "execution_count": 6,
     "metadata": {},
     "output_type": "execute_result"
    }
   ],
   "source": [
    "values.shape"
   ]
  },
  {
   "cell_type": "code",
   "execution_count": 11,
   "metadata": {},
   "outputs": [
    {
     "name": "stdout",
     "output_type": "stream",
     "text": [
      "n_vars: 5\n",
      "    var1(t-10)  var2(t-10)  var3(t-10)  var4(t-10)  var5(t-10)  var1(t-9)  \\\n",
      "10    0.792240    0.771692    0.818794    0.796807    0.005108   0.792854   \n",
      "11    0.792854    0.829804    0.822728    0.792474    0.223952   0.788149   \n",
      "12    0.788149    0.786436    0.797406    0.793156    0.104019   0.810130   \n",
      "13    0.810130    0.795833    0.809450    0.788926    0.116727   0.756547   \n",
      "14    0.756547    0.805319    0.741479    0.810517    0.388287   0.872495   \n",
      "\n",
      "    var2(t-9)  var3(t-9)  var4(t-9)  var5(t-9)  ...  var2(t-2)  var3(t-2)  \\\n",
      "10   0.829804   0.822728   0.792474   0.223952  ...   0.891111   0.896202   \n",
      "11   0.786436   0.797406   0.793156   0.104019  ...   0.876493   0.871761   \n",
      "12   0.795833   0.809450   0.788926   0.116727  ...   0.902940   0.911011   \n",
      "13   0.805319   0.741479   0.810517   0.388287  ...   0.944816   0.885905   \n",
      "14   0.847344   0.773681   0.756848   0.452102  ...   0.954837   0.946399   \n",
      "\n",
      "    var4(t-2)  var5(t-2)  var1(t-1)  var2(t-1)  var3(t-1)  var4(t-1)  \\\n",
      "10   0.900010   0.158285   0.884769   0.876493   0.871761   0.880316   \n",
      "11   0.880316   0.168968   0.903652   0.902940   0.911011   0.884778   \n",
      "12   0.884778   0.191400   0.962124   0.944816   0.885905   0.903457   \n",
      "13   0.903457   0.343111   0.918825   0.954837   0.946399   0.962160   \n",
      "14   0.962160   0.295607   0.835942   0.899491   0.832787   0.919181   \n",
      "\n",
      "    var5(t-1)   var5(t)  \n",
      "10   0.168968  0.191400  \n",
      "11   0.191400  0.343111  \n",
      "12   0.343111  0.295607  \n",
      "13   0.295607  0.353278  \n",
      "14   0.353278  0.429940  \n",
      "\n",
      "[5 rows x 51 columns]\n"
     ]
    }
   ],
   "source": [
    "# convert series to supervised learning\n",
    "def series_to_supervised(data, n_in=1, n_out=1, dropnan=True):\n",
    "    n_vars = 1 if type(data) is list else data.shape[1]\n",
    "    print(f'n_vars: {n_vars}')\n",
    "    df = DataFrame(data)\n",
    "    cols, names = list(), list()\n",
    "    # input sequence (t-n, ... t-1)\n",
    "    for i in range(n_in, 0, -1):\n",
    "        cols.append(df.shift(i))\n",
    "        names += [('var%d(t-%d)' % (j+1, i)) for j in range(n_vars)]\n",
    "    # forecast sequence (t, t+1, ... t+n)\n",
    "    for i in range(0, n_out):\n",
    "        cols.append(df.shift(-i))\n",
    "        if i == 0:\n",
    "            names += [('var%d(t)' % (j+1)) for j in range(n_vars)]\n",
    "        else:\n",
    "            print('else')\n",
    "            #names += [('var%d(t+%d)' % (j+1, i)) for j in range(n_vars)]\n",
    "    # put it all together\n",
    "    agg = concat(cols, axis=1)\n",
    "    agg.columns = names\n",
    "    # drop rows with NaN values\n",
    "    if dropnan:\n",
    "        agg.dropna(inplace=True)\n",
    "    return agg\n",
    "\n",
    "\n",
    "# normalize features\n",
    "scaler = MinMaxScaler(feature_range=(0, 1))\n",
    "scaled = scaler.fit_transform(values)\n",
    "# frame as supervised learning\n",
    "reframed = series_to_supervised(scaled, n_in=10, n_out=1)\n",
    "# drop columns we don't want to predict\n",
    "reframed.drop(reframed.columns[[50,51,52,53]], axis=1, inplace=True)\n",
    "print(reframed.head())"
   ]
  },
  {
   "cell_type": "code",
   "execution_count": 13,
   "metadata": {},
   "outputs": [
    {
     "data": {
      "text/plain": [
       "(2242, 51)"
      ]
     },
     "execution_count": 13,
     "metadata": {},
     "output_type": "execute_result"
    }
   ],
   "source": [
    "reframed.shape"
   ]
  },
  {
   "cell_type": "code",
   "execution_count": 14,
   "metadata": {},
   "outputs": [
    {
     "name": "stdout",
     "output_type": "stream",
     "text": [
      "(1800, 1, 50) (1800,) (442, 1, 50) (442, 1)\n"
     ]
    }
   ],
   "source": [
    "# split into train and test sets\n",
    "values = reframed.values\n",
    "n_vars = scaled.shape[1]\n",
    "n_train = 1800\n",
    "train = values[:n_train, :]\n",
    "test = values[n_train:, :]\n",
    "# split into input and outputs\n",
    "train_X, train_y = train[:, :-1], train[:, -1]\n",
    "test_X, test_y = test[:, :-1], test[:, -1:]\n",
    "# reshape input to be 3D [samples, timesteps, features]\n",
    "train_X = train_X.reshape((train_X.shape[0], 1, train_X.shape[1]))\n",
    "test_X = test_X.reshape((test_X.shape[0], 1, test_X.shape[1]))\n",
    "print(train_X.shape, train_y.shape, test_X.shape, test_y.shape)"
   ]
  },
  {
   "cell_type": "code",
   "execution_count": 22,
   "metadata": {},
   "outputs": [
    {
     "name": "stdout",
     "output_type": "stream",
     "text": [
      "Epoch 1/50\n",
      "25/25 - 6s - loss: 0.0297 - val_loss: 0.0042\n",
      "Epoch 2/50\n",
      "25/25 - 0s - loss: 0.0320 - val_loss: 0.0078\n",
      "Epoch 3/50\n",
      "25/25 - 0s - loss: 0.0333 - val_loss: 0.0070\n",
      "Epoch 4/50\n",
      "25/25 - 0s - loss: 0.0272 - val_loss: 0.0059\n",
      "Epoch 5/50\n",
      "25/25 - 0s - loss: 0.0244 - val_loss: 0.0030\n",
      "Epoch 6/50\n",
      "25/25 - 0s - loss: 0.0256 - val_loss: 0.0080\n",
      "Epoch 7/50\n",
      "25/25 - 0s - loss: 0.0279 - val_loss: 0.0076\n",
      "Epoch 8/50\n",
      "25/25 - 0s - loss: 0.0241 - val_loss: 0.0046\n",
      "Epoch 9/50\n",
      "25/25 - 0s - loss: 0.0228 - val_loss: 0.0046\n",
      "Epoch 10/50\n",
      "25/25 - 0s - loss: 0.0250 - val_loss: 0.0055\n",
      "Epoch 11/50\n",
      "25/25 - 0s - loss: 0.0247 - val_loss: 0.0054\n",
      "Epoch 12/50\n",
      "25/25 - 0s - loss: 0.0230 - val_loss: 0.0050\n",
      "Epoch 13/50\n",
      "25/25 - 0s - loss: 0.0225 - val_loss: 0.0055\n",
      "Epoch 14/50\n",
      "25/25 - 0s - loss: 0.0236 - val_loss: 0.0068\n",
      "Epoch 15/50\n",
      "25/25 - 0s - loss: 0.0236 - val_loss: 0.0043\n",
      "Epoch 16/50\n",
      "25/25 - 0s - loss: 0.0221 - val_loss: 0.0052\n",
      "Epoch 17/50\n",
      "25/25 - 0s - loss: 0.0235 - val_loss: 0.0050\n",
      "Epoch 18/50\n",
      "25/25 - 0s - loss: 0.0216 - val_loss: 0.0052\n",
      "Epoch 19/50\n",
      "25/25 - 0s - loss: 0.0231 - val_loss: 0.0052\n",
      "Epoch 20/50\n",
      "25/25 - 0s - loss: 0.0224 - val_loss: 0.0039\n",
      "Epoch 21/50\n",
      "25/25 - 0s - loss: 0.0214 - val_loss: 0.0035\n",
      "Epoch 22/50\n",
      "25/25 - 0s - loss: 0.0216 - val_loss: 0.0046\n",
      "Epoch 23/50\n",
      "25/25 - 0s - loss: 0.0217 - val_loss: 0.0021\n",
      "Epoch 24/50\n",
      "25/25 - 0s - loss: 0.0212 - val_loss: 0.0046\n",
      "Epoch 25/50\n",
      "25/25 - 0s - loss: 0.0234 - val_loss: 0.0042\n",
      "Epoch 26/50\n",
      "25/25 - 0s - loss: 0.0233 - val_loss: 0.0035\n",
      "Epoch 27/50\n",
      "25/25 - 0s - loss: 0.0215 - val_loss: 0.0029\n",
      "Epoch 28/50\n",
      "25/25 - 0s - loss: 0.0210 - val_loss: 0.0044\n",
      "Epoch 29/50\n",
      "25/25 - 0s - loss: 0.0230 - val_loss: 0.0053\n",
      "Epoch 30/50\n",
      "25/25 - 0s - loss: 0.0217 - val_loss: 0.0024\n",
      "Epoch 31/50\n",
      "25/25 - 0s - loss: 0.0217 - val_loss: 0.0035\n",
      "Epoch 32/50\n",
      "25/25 - 0s - loss: 0.0222 - val_loss: 0.0022\n",
      "Epoch 33/50\n",
      "25/25 - 0s - loss: 0.0199 - val_loss: 0.0027\n",
      "Epoch 34/50\n",
      "25/25 - 0s - loss: 0.0211 - val_loss: 0.0031\n",
      "Epoch 35/50\n",
      "25/25 - 0s - loss: 0.0218 - val_loss: 0.0039\n",
      "Epoch 36/50\n",
      "25/25 - 0s - loss: 0.0215 - val_loss: 0.0034\n",
      "Epoch 37/50\n",
      "25/25 - 0s - loss: 0.0216 - val_loss: 0.0041\n",
      "Epoch 38/50\n",
      "25/25 - 0s - loss: 0.0211 - val_loss: 0.0019\n",
      "Epoch 39/50\n",
      "25/25 - 0s - loss: 0.0213 - val_loss: 0.0042\n",
      "Epoch 40/50\n",
      "25/25 - 0s - loss: 0.0223 - val_loss: 0.0017\n",
      "Epoch 41/50\n",
      "25/25 - 0s - loss: 0.0193 - val_loss: 0.0016\n",
      "Epoch 42/50\n",
      "25/25 - 0s - loss: 0.0195 - val_loss: 0.0018\n",
      "Epoch 43/50\n",
      "25/25 - 0s - loss: 0.0204 - val_loss: 0.0040\n",
      "Epoch 44/50\n",
      "25/25 - 0s - loss: 0.0206 - val_loss: 0.0011\n",
      "Epoch 45/50\n",
      "25/25 - 0s - loss: 0.0201 - val_loss: 0.0042\n",
      "Epoch 46/50\n",
      "25/25 - 0s - loss: 0.0209 - val_loss: 0.0017\n",
      "Epoch 47/50\n",
      "25/25 - 0s - loss: 0.0189 - val_loss: 0.0029\n",
      "Epoch 48/50\n",
      "25/25 - 0s - loss: 0.0198 - val_loss: 0.0017\n",
      "Epoch 49/50\n",
      "25/25 - 0s - loss: 0.0200 - val_loss: 0.0035\n",
      "Epoch 50/50\n",
      "25/25 - 0s - loss: 0.0206 - val_loss: 0.0016\n"
     ]
    },
    {
     "data": {
      "image/png": "[encoded data removed]",
      "text/plain": [
       "<Figure size 432x288 with 1 Axes>"
      ]
     },
     "metadata": {
      "needs_background": "light"
     },
     "output_type": "display_data"
    }
   ],
   "source": [
    "# design network\n",
    "model = Sequential()\n",
    "model.add(LSTM(50, input_shape=(train_X.shape[1], train_X.shape[2]), dropout=0.2, return_sequences=True))\n",
    "model.add(LSTM(50, return_sequences= False, dropout=0.2))\n",
    "model.add(Dense(5))\n",
    "model.add(Dropout(0.5))\n",
    "model.add(Dense(1))\n",
    "\n",
    "model.compile(loss='mae', optimizer='adam')\n",
    "# fit network\n",
    "history = model.fit(train_X, train_y, epochs=50, batch_size=72, validation_data=(test_X, test_y), verbose=2, shuffle=False)\n",
    "# plot history\n",
    "pyplot.plot(history.history['loss'], label='train')\n",
    "pyplot.plot(history.history['val_loss'], label='test')\n",
    "pyplot.legend()\n",
    "pyplot.show()"
   ]
  },
  {
   "cell_type": "code",
   "execution_count": 23,
   "metadata": {},
   "outputs": [
    {
     "data": {
      "text/plain": [
       "array([[6.8194671e-03, 5.4241545e-03, 7.2148181e-03, 6.8132211e-03,\n",
       "        4.0272371e-06, 6.7281555e-03, 5.6273262e-03, 7.0815226e-03,\n",
       "        6.8065557e-03, 7.0838737e-06, 6.3666133e-03, 5.5308850e-03,\n",
       "        6.9132848e-03, 6.8692635e-03, 7.4696563e-06, 6.3954871e-03,\n",
       "        5.0053648e-03, 6.7709293e-03, 6.3515496e-03, 3.4355251e-06,\n",
       "        6.2582735e-03, 5.0747641e-03, 6.7553995e-03, 6.3772262e-03,\n",
       "        5.9036720e-06, 6.0588699e-03, 4.9840664e-03, 6.5121017e-03,\n",
       "        6.2589687e-03, 7.7957629e-06, 5.8611929e-03, 4.6655475e-03,\n",
       "        6.3050399e-03, 6.0355407e-03, 5.6761260e-06, 6.0092648e-03,\n",
       "        4.7112550e-03, 6.2377444e-03, 5.8511193e-03, 5.4466923e-06,\n",
       "        5.6511769e-03, 4.5746104e-03, 6.1650136e-03, 5.9733265e-03,\n",
       "        6.6079469e-06, 5.4539945e-03, 4.2414940e-03, 5.9426809e-03,\n",
       "        5.6168274e-03, 4.7966168e-06]], dtype=float32)"
      ]
     },
     "execution_count": 23,
     "metadata": {},
     "output_type": "execute_result"
    }
   ],
   "source": [
    "test_X[0]"
   ]
  },
  {
   "cell_type": "code",
   "execution_count": 24,
   "metadata": {},
   "outputs": [
    {
     "data": {
      "text/plain": [
       "array([3.9519255e-06], dtype=float32)"
      ]
     },
     "execution_count": 24,
     "metadata": {},
     "output_type": "execute_result"
    }
   ],
   "source": [
    "test_y[0]"
   ]
  },
  {
   "cell_type": "code",
   "execution_count": 25,
   "metadata": {},
   "outputs": [
    {
     "data": {
      "text/plain": [
       "array([-0.00173352], dtype=float32)"
      ]
     },
     "execution_count": 25,
     "metadata": {},
     "output_type": "execute_result"
    }
   ],
   "source": [
    "yhat = model.predict(test_X)\n",
    "yhat[0]"
   ]
  },
  {
   "cell_type": "code",
   "execution_count": 27,
   "metadata": {},
   "outputs": [
    {
     "ename": "ValueError",
     "evalue": "operands could not be broadcast together with shapes (442,46) (5,) (442,46) ",
     "output_type": "error",
     "traceback": [
      "\u001b[1;31m---------------------------------------------------------------------------\u001b[0m",
      "\u001b[1;31mValueError\u001b[0m                                Traceback (most recent call last)",
      "\u001b[1;32m<ipython-input-27-e6a123f160d8>\u001b[0m in \u001b[0;36m<module>\u001b[1;34m\u001b[0m\n\u001b[0;32m      4\u001b[0m \u001b[1;31m# invert scaling for forecast\u001b[0m\u001b[1;33m\u001b[0m\u001b[1;33m\u001b[0m\u001b[1;33m\u001b[0m\u001b[0m\n\u001b[0;32m      5\u001b[0m \u001b[0minv_yhat\u001b[0m \u001b[1;33m=\u001b[0m \u001b[0mconcatenate\u001b[0m\u001b[1;33m(\u001b[0m\u001b[1;33m(\u001b[0m\u001b[0myhat\u001b[0m\u001b[1;33m,\u001b[0m \u001b[0mtest_X\u001b[0m\u001b[1;33m[\u001b[0m\u001b[1;33m:\u001b[0m\u001b[1;33m,\u001b[0m \u001b[0mn_vars\u001b[0m\u001b[1;33m:\u001b[0m\u001b[1;33m]\u001b[0m\u001b[1;33m)\u001b[0m\u001b[1;33m,\u001b[0m \u001b[0maxis\u001b[0m\u001b[1;33m=\u001b[0m\u001b[1;36m1\u001b[0m\u001b[1;33m)\u001b[0m\u001b[1;33m\u001b[0m\u001b[1;33m\u001b[0m\u001b[0m\n\u001b[1;32m----> 6\u001b[1;33m \u001b[0minv_yhat\u001b[0m \u001b[1;33m=\u001b[0m \u001b[0mscaler\u001b[0m\u001b[1;33m.\u001b[0m\u001b[0minverse_transform\u001b[0m\u001b[1;33m(\u001b[0m\u001b[0minv_yhat\u001b[0m\u001b[1;33m)\u001b[0m\u001b[1;33m\u001b[0m\u001b[1;33m\u001b[0m\u001b[0m\n\u001b[0m\u001b[0;32m      7\u001b[0m \u001b[0minv_yhat\u001b[0m \u001b[1;33m=\u001b[0m \u001b[0minv_yhat\u001b[0m\u001b[1;33m[\u001b[0m\u001b[1;33m:\u001b[0m\u001b[1;33m,\u001b[0m\u001b[0mn_vars\u001b[0m\u001b[1;33m-\u001b[0m\u001b[1;36m1\u001b[0m\u001b[1;33m]\u001b[0m\u001b[1;33m\u001b[0m\u001b[1;33m\u001b[0m\u001b[0m\n\u001b[0;32m      8\u001b[0m \u001b[1;31m# invert scaling for actual\u001b[0m\u001b[1;33m\u001b[0m\u001b[1;33m\u001b[0m\u001b[1;33m\u001b[0m\u001b[0m\n",
      "\u001b[1;32mC:\\ProgramData\\Anaconda3\\lib\\site-packages\\sklearn\\preprocessing\\_data.py\u001b[0m in \u001b[0;36minverse_transform\u001b[1;34m(self, X)\u001b[0m\n\u001b[0;32m    430\u001b[0m                         force_all_finite=\"allow-nan\")\n\u001b[0;32m    431\u001b[0m \u001b[1;33m\u001b[0m\u001b[0m\n\u001b[1;32m--> 432\u001b[1;33m         \u001b[0mX\u001b[0m \u001b[1;33m-=\u001b[0m \u001b[0mself\u001b[0m\u001b[1;33m.\u001b[0m\u001b[0mmin_\u001b[0m\u001b[1;33m\u001b[0m\u001b[1;33m\u001b[0m\u001b[0m\n\u001b[0m\u001b[0;32m    433\u001b[0m         \u001b[0mX\u001b[0m \u001b[1;33m/=\u001b[0m \u001b[0mself\u001b[0m\u001b[1;33m.\u001b[0m\u001b[0mscale_\u001b[0m\u001b[1;33m\u001b[0m\u001b[1;33m\u001b[0m\u001b[0m\n\u001b[0;32m    434\u001b[0m         \u001b[1;32mreturn\u001b[0m \u001b[0mX\u001b[0m\u001b[1;33m\u001b[0m\u001b[1;33m\u001b[0m\u001b[0m\n",
      "\u001b[1;31mValueError\u001b[0m: operands could not be broadcast together with shapes (442,46) (5,) (442,46) "
     ]
    }
   ],
   "source": [
    "# make a prediction\n",
    "yhat = model.predict(test_X)\n",
    "test_X = test_X.reshape((test_X.shape[0], test_X.shape[2]))\n",
    "# invert scaling for forecast\n",
    "inv_yhat = concatenate((yhat, test_X[:, n_vars:]), axis=1)\n",
    "inv_yhat = scaler.inverse_transform(inv_yhat)\n",
    "inv_yhat = inv_yhat[:,n_vars-1]\n",
    "# invert scaling for actual\n",
    "test_y = test_y.reshape((len(test_y), n_vars))\n",
    "inv_y = concatenate((test_y, test_X[:, n_vars:]), axis=1)\n",
    "inv_y = scaler.inverse_transform(inv_y)\n",
    "inv_y = inv_y[:,n_vars-1]\n",
    "# calculate RMSE\n",
    "rmse = sqrt(mean_squared_error(inv_y, inv_yhat))\n",
    "print('Test RMSE: %.3f' % rmse)"
   ]
  },
  {
   "cell_type": "code",
   "execution_count": null,
   "metadata": {},
   "outputs": [],
   "source": []
  }
 ],
 "metadata": {
  "kernelspec": {
   "display_name": "Python 3",
   "language": "python",
   "name": "python3"
  },
  "language_info": {
   "codemirror_mode": {
    "name": "ipython",
    "version": 3
   },
   "file_extension": ".py",
   "mimetype": "text/x-python",
   "name": "python",
   "nbconvert_exporter": "python",
   "pygments_lexer": "ipython3",
   "version": "3.8.3"
  }
 },
 "nbformat": 4,
 "nbformat_minor": 4
}
